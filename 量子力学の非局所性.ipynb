{
 "cells": [
  {
   "cell_type": "code",
   "execution_count": 1,
   "metadata": {
    "ExecuteTime": {
     "end_time": "2020-02-20T19:24:54.129000+09:00",
     "start_time": "2020-02-20T10:24:50.515Z"
    }
   },
   "outputs": [],
   "source": [
    "#=JSコード\n",
    "\n",
    "function test() {\n",
    "  result.innerHTML = \"\";\n",
    "  for (let f of [非局所, 局所]) {\n",
    "    let N = [[0, 0], [0, 0], [0, 0], [0, 0]];\n",
    "    for (let i = 0; i < 10000; i++) {\n",
    "      let spin = Math.random() * 360;\n",
    "      let 測定角1 = Math.round(Math.random());\n",
    "      let 測定角2 = Math.round(Math.random());\n",
    "      let θ1 = [ 0  , 45  ][測定角1];\n",
    "      let θ2 = [22.5, 67.5][測定角2];\n",
    "      let [測定値1, 測定値2] = f(spin, θ1, θ2);\n",
    "      let n = N[測定角1 * 2 + 測定角2];\n",
    "      if (測定値1 == 測定値2) n[0]++; else n[1]++;\n",
    "    }\n",
    "    let E = N.map(n => (n[0]-n[1]) / (n[0]+n[1]));\n",
    "    let S = E[0] - E[1] + E[2] + E[3];\n",
    "    log();\n",
    "    log(f.name);\n",
    "    log(\"N =\", N);\n",
    "    log(\"E =\", E);\n",
    "    log(\"S =\", S);\n",
    "  }\n",
    "}\n",
    "test();\n",
    "button.onclick = test;\n",
    "\n",
    "function 非局所(spin, θ1, θ2) {\n",
    "  let 測定値1 = 測定(確率(θ1 - spin));\n",
    "  let 測定値2 = 測定値1;\n",
    "  if (Math.random() < 確率(θ2 - θ1))\n",
    "    測定値2 = 1 - 測定値1;\n",
    "  return [測定値1, 測定値2];\n",
    "}\n",
    "\n",
    "function 局所(spin, θ1, θ2) {\n",
    "  let r = Math.random();\n",
    "  let 測定値1 = 0, 測定値2 = 1;\n",
    "  if (r < 確率(θ1 - spin)) 測定値1 = 1;\n",
    "  if (r < 確率(θ2 - spin)) 測定値2 = 0;\n",
    "  return [測定値1, 測定値2];\n",
    "}\n",
    "\n",
    "function 確率(θ) {\n",
    "  return (1 + Math.cos((θ / 180) * Math.PI)) / 2;\n",
    "}\n",
    "\n",
    "function 測定(確率) {\n",
    "  if (Math.random() < 確率) return 1;\n",
    "  return 0;\n",
    "}\n",
    "\n",
    "=#"
   ]
  },
  {
   "cell_type": "code",
   "execution_count": 154,
   "metadata": {
    "ExecuteTime": {
     "end_time": "2020-02-20T20:29:47.871000+09:00",
     "start_time": "2020-02-20T11:29:47.865Z"
    }
   },
   "outputs": [
    {
     "data": {
      "text/plain": [
       "局所 (generic function with 1 method)"
      ]
     },
     "execution_count": 154,
     "metadata": {},
     "output_type": "execute_result"
    }
   ],
   "source": [
    "確率(θ)= (1 + cos(θ/180*pi))/2\n",
    "測定(p) = (rand() < p) \n",
    "\n",
    "function 非局所(θ₁,θ₂,spin)\n",
    "    ( rand() > 確率( θ₁ -θ₂ )) \n",
    "end\n",
    "\n",
    "function 局所(θ₁,θ₂,spin) \n",
    "    r=rand()\n",
    "    ( r < 確率( θ₁ -spin )) == !( r < 確率( θ₂ -spin )) \n",
    "end\n",
    "\n"
   ]
  },
  {
   "cell_type": "code",
   "execution_count": 158,
   "metadata": {
    "ExecuteTime": {
     "end_time": "2020-02-20T20:29:54.191000+09:00",
     "start_time": "2020-02-20T11:29:53.632Z"
    },
    "scrolled": false
   },
   "outputs": [
    {
     "name": "stdout",
     "output_type": "stream",
     "text": [
      "非局所\n",
      "N =[9593 241091; 76976 172283; 9667 240122; 9621 240647]\n",
      "E =[-0.9234653986692409, -0.3823613189493659, -0.9225986732802486, -0.9231144213403232]\n",
      "S =-2.3868171743404467\n",
      "局所\n",
      "N =[40505 210023; 74833 174919; 26409 223411; 8727 241173]\n",
      "E =[-0.6766429301315622, -0.4007415356033185, -0.7885757745576816, -0.93015606242497]\n",
      "S =-1.9946332315108952\n"
     ]
    }
   ],
   "source": [
    "function test()\n",
    "    spin = rand() * 360\n",
    "    for f in [非局所, 局所]\n",
    "        N = [0 0;0 0;0 0;0 0]\n",
    "        for i in 1:1000000\n",
    "            測定角1 = rand(1:2)\n",
    "            測定角2 = rand(1:2)\n",
    "            θ₁ = [ 0  , 45  ][測定角1]\n",
    "            θ₂ = [22.5, 67.5][測定角2]\n",
    "            num=(測定角1 * 2 + 測定角2 -2 )\n",
    "            f( θ₁, θ₂,spin) ? N[num,1]+= 1 : N[num,2]+=1\n",
    "        end\n",
    "        \n",
    "        E = @. (N[:,1]-N[:,2])/(N[:,1]+N[:,2]) \n",
    "        S = E[1] - E[2] + E[3] + E[4]\n",
    "        println(f)\n",
    "        println(\"N =\", N)\n",
    "        println(\"E =\", E)\n",
    "        println(\"S =\", S)        \n",
    "    end\n",
    "end\n",
    "test()"
   ]
  },
  {
   "cell_type": "code",
   "execution_count": null,
   "metadata": {},
   "outputs": [],
   "source": []
  }
 ],
 "metadata": {
  "kernelspec": {
   "display_name": "Julia 1.4.0-rc1",
   "language": "julia",
   "name": "julia-1.4"
  },
  "language_info": {
   "file_extension": ".jl",
   "mimetype": "application/julia",
   "name": "julia",
   "version": "1.4.0"
  }
 },
 "nbformat": 4,
 "nbformat_minor": 2
}
